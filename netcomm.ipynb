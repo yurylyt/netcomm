{
 "cells": [
  {
   "cell_type": "markdown",
   "metadata": {
    "id": "NHyFd-LX5V_W"
   },
   "source": [
    "# DSL Showcase"
   ]
  },
  {
   "cell_type": "markdown",
   "metadata": {
    "collapsed": false
   },
   "source": [
    "### Some initial setup"
   ]
  },
  {
   "cell_type": "markdown",
   "metadata": {
    "collapsed": false
   },
   "source": [
    "*Make sure dependencies are there*"
   ]
  },
  {
   "cell_type": "code",
   "execution_count": null,
   "metadata": {
    "collapsed": false
   },
   "outputs": [],
   "source": [
    "!pip install sqlalchemy numpy networkx matplotlib cycler"
   ]
  },
  {
   "cell_type": "markdown",
   "metadata": {
    "collapsed": false
   },
   "source": [
    "**Imports**"
   ]
  },
  {
   "cell_type": "code",
   "execution_count": null,
   "metadata": {
    "collapsed": false
   },
   "outputs": [],
   "source": [
    "from src.observer import SQLObserver\n",
    "from src.models import Experiment\n",
    "from src.experiment_runner import run_experiment\n",
    "from src.visual.plotter import Plotter, preferences\n",
    "from src.utils.data_reader import SqlReader"
   ]
  },
  {
   "cell_type": "markdown",
   "metadata": {
    "collapsed": false
   },
   "source": [
    "### Init experiment"
   ]
  },
  {
   "cell_type": "code",
   "execution_count": null,
   "metadata": {
    "collapsed": false
   },
   "outputs": [],
   "source": [
    "\n",
    "experiment = Experiment(name = \"Two confident leaders choose 0\",\n",
    "                        community_size=200,\n",
    "                        iterations=100, \n",
    "                        variants=2)\n",
    "observer = SQLObserver(experiment)"
   ]
  },
  {
   "cell_type": "markdown",
   "metadata": {
    "collapsed": false
   },
   "source": [
    "### Define first leader Alice"
   ]
  },
  {
   "cell_type": "code",
   "execution_count": null,
   "metadata": {
    "collapsed": false
   },
   "outputs": [],
   "source": [
    "alice = experiment.actor(0)\n",
    "alice.confidence_level = 1.0\n",
    "alice.dialog_chance = 1.0\n",
    "alice.chooses(0)"
   ]
  },
  {
   "cell_type": "markdown",
   "metadata": {
    "collapsed": false
   },
   "source": [
    "### Define second leader Bob"
   ]
  },
  {
   "cell_type": "code",
   "execution_count": null,
   "metadata": {
    "collapsed": false
   },
   "outputs": [],
   "source": [
    "bob = experiment.actor(1)\n",
    "bob.confidence_level = 1.0\n",
    "bob.dialog_chance = 1.0\n",
    "bob.chooses(0)"
   ]
  },
  {
   "cell_type": "markdown",
   "metadata": {
    "collapsed": false
   },
   "source": [
    "### Run the experiment"
   ]
  },
  {
   "cell_type": "code",
   "execution_count": null,
   "metadata": {
    "collapsed": false
   },
   "outputs": [],
   "source": [
    "data_id = run_experiment(experiment, observer)\n",
    "print(\"Experiment id:\", data_id)"
   ]
  },
  {
   "cell_type": "code",
   "execution_count": null,
   "metadata": {
    "collapsed": false
   },
   "outputs": [],
   "source": [
    "data_reader = SqlReader(\"sqlite:///experiments.sqlite\", data_id)\n",
    "plotter = Plotter(data_reader, aspect=50)\n",
    "\n",
    "plotter.plot(\n",
    "    preferences(\"Preference 0\", 0),\n",
    "    preferences(\"Preference 1\", 1)\n",
    ")"
   ]
  }
 ],
 "metadata": {
  "colab": {
   "authorship_tag": "ABX9TyOVvWXBfFJVJZWeJM3tHSYm",
   "include_colab_link": true,
   "provenance": [],
   "toc_visible": true
  },
  "kernelspec": {
   "display_name": "Python 3 (ipykernel)",
   "language": "python",
   "name": "python3"
  },
  "language_info": {
   "codemirror_mode": {
    "name": "ipython",
    "version": 3
   },
   "file_extension": ".py",
   "mimetype": "text/x-python",
   "name": "python",
   "nbconvert_exporter": "python",
   "pygments_lexer": "ipython3",
   "version": "3.11.7"
  }
 },
 "nbformat": 4,
 "nbformat_minor": 4
}
