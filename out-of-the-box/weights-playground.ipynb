{
 "cells": [
  {
   "cell_type": "markdown",
   "id": "5ae1991be096bb30",
   "metadata": {},
   "source": [
    "## Weights"
   ]
  },
  {
   "cell_type": "markdown",
   "id": "344cd532e67706ec",
   "metadata": {},
   "source": [
    "### Option 1: 2 paremters per actor."
   ]
  },
  {
   "cell_type": "markdown",
   "id": "63de858535128554",
   "metadata": {},
   "source": [
    "- Resistance $r$ - probability of keeping current opinion\n",
    "- Charisma $p$ - probability of persuading the other person\n",
    "- $\\varepsilon$ - threshold for alternative option\n",
    "\n",
    "Rules:\n",
    "- $|r_A - p_B| \\leq \\varepsilon$ - Alice chooses option 3\n",
    "- ~$ r_A - p_B > \\varepsilon$ - Alice persuades Bob\n",
    "- ~$ p_B - r_A > \\varepsilon$ - Bob persuades Alice\n",
    "\n",
    "In the dialog model, these parameters should blend in somehow.\n",
    "\n",
    "For a given actor:\n",
    "- high resistance, low persuasion - will stick to his option, but will not convince others.\n",
    "- high resistance, high persuasion - will stick to his option, and will convince others.\n",
    "- low resistance, low persuasion - will change his opinion, and will not convince others.\n",
    "- low resistance, high persuasion - ready to change his own opinion, easily convinces others.\n",
    "\n",
    "Feels like it's ok to stick to $p$ and $q$ for now.\n",
    "\n",
    "**Pros:**\n",
    "- Allows to better distinguish leaders\n",
    "\n",
    "**Cons:**\n",
    "- Resistance and persuasion are not independent.\n",
    "- Complicates the model. It's fine if it's necessary, but is it?\n"
   ]
  },
  {
   "cell_type": "markdown",
   "id": "fea57c88707ee410",
   "metadata": {},
   "source": [
    "### Option 2: 1 parameter per actor"
   ]
  },
  {
   "cell_type": "markdown",
   "id": "6c12f3b2b3c2114a",
   "metadata": {},
   "source": [
    "- Resistance $r$ - probability of keeping current opinion. Higher resisance also means more chance others will listen\n",
    "\n",
    "Rules:\n",
    "- $|r_A - r_B| \\leq \\varepsilon$ - Alice chooses option 3\n",
    "- $ r_A - r_B > \\varepsilon$ - Alice persuades Bob\n",
    "- $ r_B - r_A > \\varepsilon$ - Bob persuades Alice\n",
    "\n",
    "Given that in the dialog, we have a joint preference matrix: $w_A \\cdot w_B$, how should we interpret the resistance?\n",
    "\n",
    "**Cons**\n",
    "- With one parameter, I don't see an option to allow e.g. only Alice going for option 3, while Bob keeping his opinion."
   ]
  },
  {
   "cell_type": "markdown",
   "id": "709515adb4febeb4",
   "metadata": {},
   "source": [
    "## Values with Option 1"
   ]
  },
  {
   "cell_type": "markdown",
   "id": "8c9d563050e11663",
   "metadata": {},
   "source": [
    "(vA, vB)\n",
    "- -> (vA, vA): Alice persuades Bob - Alice is charismatic AND Bob is not resistant $c_A \\cdot (1 - r_B)$\n",
    "- -> (vB, vB): Bob persuades Alice - Bob is charismatic AND Alice is not resistant $c_B \\cdot (1 - r_A)$\n",
    "- -> (vB, vA): They persuade each other - both are charismatic AND not resistant $c_A \\cdot c_B \\cdot (1 - r_A) \\cdot (1 - r_B)$\n",
    "- -> (vA, vB): Both keep their opinions - both are resistant and not charismatic $r_A \\cdot r_B \\cdot (1 - c_A) \\cdot (1 - c_B)$\n",
    "\n",
    "- -> (vA, vThird): Bob goes for third option - Bob is resistant AND Alice is charismatic $r_B \\cdot c_A$\n",
    "- -> (vB, vThird): Bob persuades Alice, but goes for third option himself **XXX DOESN'T MAKE SENSE**\n",
    "- -> (vThird, vA): Alice persuades Bob, but goes for third option herself **XXX DOESN'T MAKE SENSE**\n",
    "- -> (vThird, vB): Alice goes for third option - Alice is resistant AND Bob is charismatic $r_A \\cdot c_B$\n",
    "- -> (vThird, vThird): Both go for same option - both are charismatic AND resistant $c_A \\cdot c_B \\cdot r_A \\cdot r_B$\n",
    "\n",
    "What is the sum?\n",
    "\\begin{equation}\n",
    " c1(1 - r2) + c2(1 - r1) + c1 * c2 * (1 - r1) * (1 - r2) + r1 * r2 * (1 - c1) * (1 - c2) + r2 * c1 + r1 * c2 + c1 * c2 * r1 * r2\n",
    "\\end{equation}"
   ]
  },
  {
   "cell_type": "code",
   "execution_count": 1,
   "id": "f74d9363aac7bb8e",
   "metadata": {
    "ExecuteTime": {
     "end_time": "2025-01-24T17:43:12.729511Z",
     "start_time": "2025-01-24T17:43:12.721157Z"
    }
   },
   "outputs": [],
   "source": [
    "\n",
    "def row_tostr(row):\n",
    "    return \"[\" + \", \".join([f\"{x:.2f}\".rstrip('0').rstrip('.') for x in row]) + \"]\"\n",
    "\n",
    "\n",
    "def sumup_and_print(c1, r1, c2, r2, title):\n",
    "    print(f\"{title}: c1: {c1}, r1: {r1}, c2: {c2}, r2: {r2}\")\n",
    "    va_va = c1 * (1 - r2)\n",
    "    va_vb = r1 * r2 * (1 - c1) * (1 - c2)\n",
    "    va_vthird = r2 * c1\n",
    "    vb_va = c1 * c2 * (1 - r1) * (1 - r2)\n",
    "    vb_vb = c2 * (1 - r1)\n",
    "    vb_vthird = 0\n",
    "    vthird_va = 0\n",
    "    vthird_vb = r1 * c2\n",
    "    vthird_vthird = c1 * c2 * r1 * r2\n",
    "\n",
    "    row = [va_va, va_vb, va_vthird, vb_va, vb_vb, vb_vthird, vthird_va, vthird_vb, vthird_vthird]\n",
    "    total = sum(row)\n",
    "    normalized = [x / total for x in row]\n",
    "\n",
    "    print(row_tostr(row), \"=\", total)\n",
    "    print(row_tostr(normalized), \"=\", sum(normalized))"
   ]
  },
  {
   "cell_type": "code",
   "execution_count": 2,
   "id": "d481b711b43c2fe4",
   "metadata": {
    "ExecuteTime": {
     "end_time": "2025-01-24T17:43:13.862026Z",
     "start_time": "2025-01-24T17:43:13.859627Z"
    }
   },
   "outputs": [
    {
     "name": "stdout",
     "output_type": "stream",
     "text": [
      "Top resistance, no charisma: c1: 1, r1: 0, c2: 1, r2: 0\n",
      "[1, 0, 0, 1, 1, 0, 0, 0, 0] = 3\n",
      "[0.33, 0, 0, 0.33, 0.33, 0, 0, 0, 0] = 1.0\n"
     ]
    }
   ],
   "source": [
    "sumup_and_print(1, 0, 1, 0, \"Top resistance, no charisma\")"
   ]
  },
  {
   "cell_type": "code",
   "execution_count": 3,
   "id": "a641f93a8542ab01",
   "metadata": {
    "ExecuteTime": {
     "end_time": "2025-01-24T17:43:14.622009Z",
     "start_time": "2025-01-24T17:43:14.619530Z"
    }
   },
   "outputs": [
    {
     "name": "stdout",
     "output_type": "stream",
     "text": [
      "Top resistance, top charisma: c1: 1, r1: 1, c2: 1, r2: 1\n",
      "[0, 0, 1, 0, 0, 0, 0, 1, 1] = 3\n",
      "[0, 0, 0.33, 0, 0, 0, 0, 0.33, 0.33] = 1.0\n"
     ]
    }
   ],
   "source": [
    "sumup_and_print(1, 1, 1, 1, \"Top resistance, top charisma\")"
   ]
  },
  {
   "cell_type": "code",
   "execution_count": 4,
   "id": "fe2ff95dd9504422",
   "metadata": {
    "ExecuteTime": {
     "end_time": "2025-01-24T17:43:15.455367Z",
     "start_time": "2025-01-24T17:43:15.452980Z"
    }
   },
   "outputs": [
    {
     "name": "stdout",
     "output_type": "stream",
     "text": [
      "Top charisma, no resistance: c1: 0, r1: 1, c2: 0, r2: 1\n",
      "[0, 1, 0, 0, 0, 0, 0, 0, 0] = 1\n",
      "[0, 1, 0, 0, 0, 0, 0, 0, 0] = 1.0\n"
     ]
    }
   ],
   "source": [
    "sumup_and_print(0, 1, 0, 1, \"Top charisma, no resistance\")"
   ]
  },
  {
   "cell_type": "code",
   "execution_count": 5,
   "id": "22fb9e097416b3e8",
   "metadata": {
    "ExecuteTime": {
     "end_time": "2025-01-24T17:43:15.982836Z",
     "start_time": "2025-01-24T17:43:15.979344Z"
    }
   },
   "outputs": [
    {
     "name": "stdout",
     "output_type": "stream",
     "text": [
      "High charisma, high resistance: c1: 0.8, r1: 0.8, c2: 0.8, r2: 0.8\n",
      "[0.16, 0.03, 0.64, 0.03, 0.16, 0, 0, 0.64, 0.41] = 2.0608000000000004\n",
      "[0.08, 0.01, 0.31, 0.01, 0.08, 0, 0, 0.31, 0.2] = 0.9999999999999999\n"
     ]
    }
   ],
   "source": [
    "sumup_and_print(0.8, 0.8, 0.8, 0.8, \"High charisma, high resistance\")"
   ]
  },
  {
   "cell_type": "code",
   "execution_count": 6,
   "id": "28a671735a11034f",
   "metadata": {
    "ExecuteTime": {
     "end_time": "2025-01-24T17:43:16.723127Z",
     "start_time": "2025-01-24T17:43:16.721011Z"
    }
   },
   "outputs": [
    {
     "name": "stdout",
     "output_type": "stream",
     "text": [
      "Bob not charismatic: c1: 0.8, r1: 0.8, c2: 0.8, r2: 0.2\n",
      "[0.64, 0.01, 0.16, 0.1, 0.16, 0, 0, 0.64, 0.1] = 1.8112000000000004\n",
      "[0.35, 0, 0.09, 0.06, 0.09, 0, 0, 0.35, 0.06] = 1.0\n"
     ]
    }
   ],
   "source": [
    "sumup_and_print(0.8, 0.8, 0.8, 0.2, \"Bob not charismatic\")\n"
   ]
  },
  {
   "cell_type": "code",
   "execution_count": null,
   "id": "e157acc178cb2773",
   "metadata": {},
   "outputs": [],
   "source": []
  }
 ],
 "metadata": {
  "kernelspec": {
   "display_name": "Python 3 (ipykernel)",
   "language": "python",
   "name": "python3"
  },
  "language_info": {
   "codemirror_mode": {
    "name": "ipython",
    "version": 3
   },
   "file_extension": ".py",
   "mimetype": "text/x-python",
   "name": "python",
   "nbconvert_exporter": "python",
   "pygments_lexer": "ipython3",
   "version": "3.11.9"
  }
 },
 "nbformat": 4,
 "nbformat_minor": 5
}
